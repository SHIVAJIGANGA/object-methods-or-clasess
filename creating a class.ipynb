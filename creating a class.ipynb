{
 "cells": [
  {
   "cell_type": "code",
   "execution_count": 3,
   "metadata": {},
   "outputs": [
    {
     "name": "stdout",
     "output_type": "stream",
     "text": [
      "hellow its me suresh\n",
      "hellow its me  22\n",
      "hellow this is my subject python\n",
      "hellow this is my score  100\n"
     ]
    }
   ],
   "source": [
    "class Student:\n",
    "    def __init__(data, name,age,subject,marks):\n",
    "        data.name = name\n",
    "        data.age = age\n",
    "        data.subject = subject\n",
    "        data.marks = marks\n",
    "    def mystu(data):\n",
    "        print(\"hellow its me \" +data.name)\n",
    "        print(\"hellow its me \",data.age)\n",
    "        print(\"hellow this is my subject \"+data.subject)\n",
    "        print(\"hellow this is my score \",data.marks)\n",
    "       \n",
    "        \n",
    "my_student = Student(\"suresh\",22,\"python\",100)\n",
    "my_student.mystu()\n"
   ]
  },
  {
   "cell_type": "code",
   "execution_count": 8,
   "metadata": {},
   "outputs": [
    {
     "name": "stdout",
     "output_type": "stream",
     "text": [
      "enter your name: suresh\n",
      "enter your age: 22\n",
      "enter subject name: hospitality\n",
      "enter your marks: 1200\n",
      "this is my name:  suresh\n",
      "this is my age:  22\n",
      "this is my subject:  hospitality\n",
      "this is my score:  1200\n"
     ]
    }
   ],
   "source": [
    "name = input(\"enter your name: \")\n",
    "age = int(input(\"enter your age: \"))\n",
    "subject = input(\"enter subject name: \")\n",
    "marks = int(input(\"enter your marks: \"))\n",
    "\n",
    "class Stu:\n",
    "    def __init__(details,name,age,subject,marks):\n",
    "        details.name = name\n",
    "        details.age = age\n",
    "        details.subject = subject\n",
    "        details.marks= marks\n",
    "        \n",
    "my_stu = Stu(name,age,subject,marks)\n",
    "print(\"this is my name: \",my_stu.name)\n",
    "print(\"this is my age: \",my_stu.age)\n",
    "print(\"this is my subject: \",my_stu.subject)\n",
    "print(\"this is my score: \",my_stu.marks)\n",
    "        \n",
    "    \n",
    "    "
   ]
  },
  {
   "cell_type": "code",
   "execution_count": null,
   "metadata": {},
   "outputs": [],
   "source": []
  }
 ],
 "metadata": {
  "kernelspec": {
   "display_name": "Python 3",
   "language": "python",
   "name": "python3"
  },
  "language_info": {
   "codemirror_mode": {
    "name": "ipython",
    "version": 3
   },
   "file_extension": ".py",
   "mimetype": "text/x-python",
   "name": "python",
   "nbconvert_exporter": "python",
   "pygments_lexer": "ipython3",
   "version": "3.7.0"
  }
 },
 "nbformat": 4,
 "nbformat_minor": 2
}
